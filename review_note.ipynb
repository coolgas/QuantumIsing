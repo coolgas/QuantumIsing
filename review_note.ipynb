{
 "cells": [
  {
   "cell_type": "code",
   "execution_count": 1,
   "id": "863af695",
   "metadata": {},
   "outputs": [
    {
     "data": {
      "text/plain": [
       "Main.QuantumIsing"
      ]
     },
     "execution_count": 1,
     "metadata": {},
     "output_type": "execute_result"
    }
   ],
   "source": [
    "include(\"./QuantumIsing.jl\")"
   ]
  },
  {
   "cell_type": "code",
   "execution_count": 2,
   "id": "7184b438",
   "metadata": {},
   "outputs": [
    {
     "data": {
      "text/plain": [
       "Plots.PyPlotBackend()"
      ]
     },
     "execution_count": 2,
     "metadata": {},
     "output_type": "execute_result"
    }
   ],
   "source": [
    "using .QuantumIsing\n",
    "using Plots\n",
    "pyplot()"
   ]
  },
  {
   "cell_type": "markdown",
   "id": "1041b672",
   "metadata": {},
   "source": [
    "## The intended phase diagram\n",
    "The Hamiltonian we considered is $$H = \\sum_{j}\\sigma^{z}_{i}\\sigma^{z}_{i+1}-h_x\\sum_{i}\\sigma_{i}^{x}-h_z\\sum_{i}\\sigma_{i}^{z}.$$ This initial state of the system is antiferromagnetic, as we probe the system by varying $h_x$ and $h_z$, the system will process a phase transition to paramagnetic state. The phase diagram is as following. On the critical line, the system is gapless."
   ]
  },
  {
   "cell_type": "code",
   "execution_count": 3,
   "id": "fcfea1ac",
   "metadata": {},
   "outputs": [
    {
     "name": "stdout",
     "output_type": "stream",
     "text": [
      " 62.769751 seconds (113.18 M allocations: 86.968 GiB, 12.92% gc time, 9.98% compilation time)\n"
     ]
    },
    {
     "data": {
      "image/png": "[encoded data removed]"
     },
     "execution_count": 3,
     "metadata": {},
     "output_type": "execute_result"
    },
    {
     "name": "stderr",
     "output_type": "stream",
     "text": [
      "┌ Warning: `vendor()` is deprecated, use `BLAS.get_config()` and inspect the output instead\n",
      "│   caller = npyinitialize() at numpy.jl:67\n",
      "└ @ PyCall /Users/tianyiyan/.julia/packages/PyCall/L0fLP/src/numpy.jl:67\n"
     ]
    }
   ],
   "source": [
    "p1 = plot(xlab=\"hx\", ylab=\"hz\", xlim=(0,1.2), legend=false);\n",
    "annotate!((0.25, 0.5, \"Antiferromagnetic\"));\n",
    "annotate!(1.00, 1.5, \"Paramagnetic\");\n",
    "hxs = 0.06:0.01:1.2;\n",
    "hzs = 0:0.2:2;\n",
    "hx_lst = zeros(length(hzs))\n",
    "\n",
    "@time for (i, hz) in enumerate(hzs)\n",
    "    for j in 1:1:length(hxs)-1\n",
    "        m1, m2 = critical_line(N=10, hx=hxs[j], hz=hz) \n",
    "        m1prime, m2prime = critical_line(N=10, hx=hxs[j+1],hz=hz)\n",
    "        if m2prime > m2\n",
    "            hx = (hxs[j+1]+hxs[j])/2\n",
    "            # println(hx,\" \",hz)\n",
    "            hx_lst[i] = hx\n",
    "            break\n",
    "        end\n",
    "    end\n",
    "end\n",
    "plot!(p1, hx_lst, hzs, marker=:circle);\n",
    "p1\n"
   ]
  },
  {
   "cell_type": "markdown",
   "id": "ad68b4b4",
   "metadata": {},
   "source": [
    "## Clarifications of the phase diagram\n",
    "The phase diagram listed above can be verified by considering 1st/2nd order derivatives of z-directional average magnetization. We notice here that when $hx<<1$ (i.e., the multicritical point), the system undergoes a first-order phase transition as $hz$ approaches 2 as shown in the following diagram in which we take $hx$ as 0.1."
   ]
  },
  {
   "cell_type": "code",
   "execution_count": null,
   "id": "0eb38013",
   "metadata": {},
   "outputs": [],
   "source": [
    "hs1 = 1.25:0.05:2.75;\n",
    "p2 = plot(xlab=\"hz\", ylab=\"dSz/dhz\");\n",
    "M1 = zeros(length(hs1));\n",
    "@time for (i, h) in enumerate(hs1)\n",
    "    vals, vecs = generate_eigs(N=14, hx=0.1, hz=h)\n",
    "    groundstate = @view vecs[:,1]\n",
    "    M1[i] = magnetization(groundstate, z=true)\n",
    "    # println(M)\n",
    "end\n",
    "\n",
    "h, deri = derivative(x=hs1, y=M1);\n",
    "plot!(p2, h, deri, marker=:circle, label=\"1st order\");\n",
    "p2"
   ]
  },
  {
   "cell_type": "markdown",
   "id": "db82dba5",
   "metadata": {},
   "source": [
    "<hr style=\"border:1.5px solid gray\"> </hr>\n",
    "In the middle area (i.e., $0<hx<1$), the first order derivative cannot appropriately detect the phase transtion point, which indicates that in middle area the system undergoes second order phase transition. As we can see in the following diagrams in which we take $hx=0.5$."
   ]
  },
  {
   "cell_type": "code",
   "execution_count": null,
   "id": "07272c39",
   "metadata": {},
   "outputs": [],
   "source": [
    "hs2 = 1:0.05:2\n",
    "p2 = plot(layout=grid(2,1, heights=[0.5,0.5]), xlab=\"hz\")\n",
    "M2 = zeros(length(hs2))\n",
    "\n",
    "@time for (i, h) in enumerate(hs2)\n",
    "    vals, vecs = generate_eigs(N=14, hx=0.5, hz=h)\n",
    "    groundstate = @view vecs[:,1]\n",
    "    M2[i] = magnetization(groundstate, z=true)\n",
    "    # println(M)\n",
    "end\n",
    "\n",
    "# Taking the first derivative\n",
    "h, deri = derivative(x=hs2, y=M2);\n",
    "# Taking the second derivative\n",
    "h1, deri1 = derivative(x=h, y=deri)\n",
    "\n",
    "plot!(p2[1], h, deri, marker=:circle, label=\"1st order\", ylab=\"dSz/dhz\");\n",
    "plot!(p2[2], h1, deri1, marker=:circle, label=\"2nd order\", ylab=\"d^Sz/dhz^2\", color=:green);\n",
    "\n",
    "p2"
   ]
  },
  {
   "cell_type": "markdown",
   "id": "0f5a54a6",
   "metadata": {},
   "source": [
    "<hr style=\"border:1.5px solid gray\"> </hr>\n",
    "When $hz$ approaching 0, again the system undergoes a second-order phase transition, as we can see in the following diagrams. We expect such phase transition happens at around $h_x=1$."
   ]
  },
  {
   "cell_type": "code",
   "execution_count": null,
   "id": "cc2bf008",
   "metadata": {},
   "outputs": [],
   "source": [
    "hs3 = 0.5:0.05:1.5\n",
    "p3 = plot(layout=grid(2,1, heights=[0.5,0.5]), xlab=\"hx\")\n",
    "M3 = zeros(length(hs3))\n",
    "\n",
    "@time for (i, h) in enumerate(hs3)\n",
    "    vals, vecs = generate_eigs(N=16, hx=h, hz=0)\n",
    "    groundstate = @view vecs[:,1]\n",
    "    M3[i] = magnetization(groundstate, z=false)\n",
    "    # println(M)\n",
    "end\n",
    "\n",
    "# Taking the first derivative\n",
    "h, deri = derivative(x=hs3, y=M3);\n",
    "# Taking the second derivative\n",
    "h1, deri1 = derivative(x=h, y=deri)\n",
    "\n",
    "plot!(p3[1], h, deri, marker=:circle, label=\"1st order\", ylab=\"dSx/dhx\");\n",
    "plot!(p3[2], h1, deri1, marker=:circle, label=\"2nd order\", ylab=\"d^Sx/dhx^2\", color=:green);\n",
    "\n",
    "p3"
   ]
  },
  {
   "cell_type": "code",
   "execution_count": null,
   "id": "2495f2d0",
   "metadata": {},
   "outputs": [],
   "source": []
  }
 ],
 "metadata": {
  "kernelspec": {
   "display_name": "Julia 1.7.1",
   "language": "julia",
   "name": "julia-1.7"
  },
  "language_info": {
   "file_extension": ".jl",
   "mimetype": "application/julia",
   "name": "julia",
   "version": "1.7.1"
  }
 },
 "nbformat": 4,
 "nbformat_minor": 5
}
